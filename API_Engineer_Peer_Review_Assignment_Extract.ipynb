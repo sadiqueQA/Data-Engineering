{
 "cells": [
  {
   "cell_type": "markdown",
   "metadata": {},
   "source": [
    "<p style=\"text-align:center\">\n",
    "    <a href=\"https://skills.network/?utm_medium=Exinfluencer&utm_source=Exinfluencer&utm_content=000026UJ&utm_term=10006555&utm_id=NA-SkillsNetwork-Channel-SkillsNetworkCoursesIBMDeveloperSkillsNetworkPY0221ENSkillsNetwork23455645-2022-01-01\" target=\"_blank\">\n",
    "    <img src=\"https://cf-courses-data.s3.us.cloud-object-storage.appdomain.cloud/assets/logos/SN_web_lightmode.png\" width=\"200\" alt=\"Skills Network Logo\"  />\n",
    "    </a>\n",
    "</p>\n"
   ]
  },
  {
   "cell_type": "markdown",
   "metadata": {},
   "source": [
    "# Peer Review Assignment - Data Engineer - Extract API Data\n"
   ]
  },
  {
   "cell_type": "markdown",
   "metadata": {},
   "source": [
    "Estimated time needed: **20** minutes\n"
   ]
  },
  {
   "cell_type": "markdown",
   "metadata": {},
   "source": [
    "## Objectives\n",
    "\n",
    "In this part you will:\n",
    "\n",
    "*   Collect exchange rate data using an API\n",
    "*   Store the data as a CSV\n"
   ]
  },
  {
   "cell_type": "markdown",
   "metadata": {},
   "source": [
    "For this lab, we are going to be using Python and several Python libraries. Some of these libraries might be installed in your lab environment or in SN Labs. Others may need to be installed by you. The cells below will install these libraries when executed.\n"
   ]
  },
  {
   "cell_type": "code",
   "execution_count": 1,
   "metadata": {},
   "outputs": [],
   "source": [
    "#!mamba install pandas==1.3.3 -y\n",
    "#!mamba install requests==2.26.0 -y"
   ]
  },
  {
   "cell_type": "markdown",
   "metadata": {},
   "source": [
    "## Imports\n",
    "\n",
    "Import any additional libraries you may need here.\n"
   ]
  },
  {
   "cell_type": "code",
   "execution_count": 2,
   "metadata": {},
   "outputs": [],
   "source": [
    "import requests\n",
    "import pandas as pd"
   ]
  },
  {
   "cell_type": "markdown",
   "metadata": {},
   "source": [
    "## Extract Data Using an API\n"
   ]
  },
  {
   "cell_type": "markdown",
   "metadata": {},
   "source": [
    "Using ExchangeRate-API we will extract currency exchange rate data. Use the below steps to get the access key and to get the data.\n",
    "\n",
    "1.  Open the url : [https://exchangeratesapi.io/](https://exchangeratesapi.io/?utm_medium=Exinfluencer&utm_source=Exinfluencer&utm_content=000026UJ&utm_term=10006555&utm_id=NA-SkillsNetwork-Channel-SkillsNetworkCoursesIBMDeveloperSkillsNetworkPY0221ENSkillsNetwork23455645-2022-01-01) and click on **Get Free API Key**.\n",
    "2.  Subscribe for Free plan and Sign-in with the Google Account.\n",
    "3.  Once the account is created you will be redirected to [https://apilayer.com](https://apilayer.com/?utm_medium=Exinfluencer&utm_source=Exinfluencer&utm_content=000026UJ&utm_term=10006555&utm_id=NA-SkillsNetwork-Channel-SkillsNetworkCoursesIBMDeveloperSkillsNetworkPY0221ENSkillsNetwork23455645-2022-01-01) website.\n",
    "4.  Now, click on the **user icon** and click **Account** as shown below:\n",
    "\n",
    "<img src=\"https://cf-courses-data.s3.us.cloud-object-storage.appdomain.cloud/IBMDeveloperSkillsNetwork-PY0221EN-SkillsNetwork/labs/module%206/Final%20Assignment/Images/account.png\"/>\n",
    "\n",
    "3.  Scroll down and you will get the API Key section. Copy the API key and use in the url in Question 1.\n"
   ]
  },
  {
   "cell_type": "markdown",
   "metadata": {},
   "source": [
    "### Call the API\n",
    "\n",
    "<b> Question 1</b> Using the `requests` library call the endpoint given above and save the text, remember the first few characters of the output:\n"
   ]
  },
  {
   "cell_type": "code",
   "execution_count": 3,
   "metadata": {},
   "outputs": [],
   "source": [
    "# Write your code here\n",
    "url = \"https://api.apilayer.com/exchangerates_data/latest?base=EUR&apikey=gORIkmaYC3WE8XuDQB4pBt08thxGL9eZ\" #Make sure to change ******* to your API key."
   ]
  },
  {
   "cell_type": "markdown",
   "metadata": {},
   "source": [
    "### Save as DataFrame\n",
    "\n",
    "<b> Question 2</b>  Using the data gathered turn it into a `pandas` dataframe. The dataframe should have the Currency as the index and `Rate` as their columns. Make sure to drop unnecessary columns.\n"
   ]
  },
  {
   "cell_type": "code",
   "execution_count": 5,
   "metadata": {},
   "outputs": [
    {
     "name": "stdout",
     "output_type": "stream",
     "text": [
      "{'success': True, 'timestamp': 1656955983, 'base': 'EUR', 'date': '2022-07-04', 'rates': {'AED': 3.827189, 'AFN': 91.400245, 'ALL': 118.768354, 'AMD': 424.628757, 'ANG': 1.877666, 'AOA': 444.761306, 'ARS': 131.251308, 'AUD': 1.517917, 'AWG': 1.872962, 'AZN': 1.771037, 'BAM': 1.949565, 'BBD': 2.103541, 'BDT': 97.362011, 'BGN': 1.954053, 'BHD': 0.392795, 'BIF': 2144.319518, 'BMD': 1.041982, 'BND': 1.453678, 'BOB': 7.172951, 'BRL': 5.528961, 'BSD': 1.041852, 'BTC': 5.3347823e-05, 'BTN': 82.249066, 'BWP': 12.878018, 'BYN': 3.518893, 'BYR': 20422.841947, 'BZD': 2.100052, 'CAD': 1.340181, 'CDF': 2086.568559, 'CHF': 1.001554, 'CLF': 0.035066, 'CLP': 967.573726, 'CNY': 6.981379, 'COP': 4381.585282, 'CRC': 715.849713, 'CUC': 1.041982, 'CUP': 27.612516, 'CVE': 109.911813, 'CZK': 24.74493, 'DJF': 185.180592, 'DKK': 7.439969, 'DOP': 57.092541, 'DZD': 152.747055, 'EGP': 19.65678, 'ERN': 15.629727, 'ETB': 54.341581, 'EUR': 1, 'FJD': 2.297205, 'FKP': 0.85557, 'GBP': 0.861208, 'GEL': 3.06325, 'GGP': 0.85557, 'GHS': 8.376284, 'GIP': 0.85557, 'GMD': 56.360551, 'GNF': 9048.822826, 'GTQ': 8.076746, 'GYD': 217.969584, 'HKD': 8.175524, 'HNL': 25.609707, 'HRK': 7.527798, 'HTG': 119.757176, 'HUF': 402.559482, 'IDR': 15620.400243, 'ILS': 3.648212, 'IMP': 0.85557, 'INR': 82.267573, 'IQD': 1520.563873, 'IRR': 44127.925941, 'ISK': 139.500305, 'JEP': 0.85557, 'JMD': 156.851977, 'JOD': 0.738791, 'JPY': 141.398996, 'KES': 122.880748, 'KGS': 82.835903, 'KHR': 4245.142142, 'KMF': 484.130737, 'KPW': 937.783396, 'KRW': 1350.23135, 'KWD': 0.319805, 'KYD': 0.86811, 'KZT': 486.795747, 'LAK': 15647.245272, 'LBP': 1575.437544, 'LKR': 373.491551, 'LRD': 158.903839, 'LSL': 16.504886, 'LTL': 3.076701, 'LVL': 0.630284, 'LYD': 5.039407, 'MAD': 10.43457, 'MDL': 19.940623, 'MGA': 4253.781047, 'MKD': 61.417643, 'MMK': 1929.026243, 'MNT': 3255.242207, 'MOP': 8.420325, 'MRO': 371.987299, 'MUR': 47.749392, 'MVR': 15.99386, 'MWK': 1069.373712, 'MXN': 21.148415, 'MYR': 4.598296, 'MZN': 66.509473, 'NAD': 16.505087, 'NGN': 432.703975, 'NIO': 37.354965, 'NOK': 10.267678, 'NPR': 131.592881, 'NZD': 1.67744, 'OMR': 0.400625, 'PAB': 1.041752, 'PEN': 4.006924, 'PGK': 3.671127, 'PHP': 57.347028, 'PKR': 213.181823, 'PLN': 4.716207, 'PYG': 7132.281374, 'QAR': 3.793884, 'RON': 4.944517, 'RSD': 117.390132, 'RUB': 58.350803, 'RWF': 1066.313545, 'SAR': 3.910424, 'SBD': 8.502538, 'SCR': 13.605827, 'SDG': 475.661873, 'SEK': 10.786751, 'SGD': 1.454945, 'SHP': 1.435225, 'SLL': 13722.899751, 'SOS': 609.041059, 'SRD': 23.253382, 'STD': 21566.918099, 'SVC': 9.115708, 'SYP': 2618.010747, 'SZL': 16.925014, 'THB': 37.203985, 'TJS': 10.288041, 'TMT': 3.657356, 'TND': 3.192112, 'TOP': 2.442403, 'TRY': 17.510191, 'TTD': 7.07357, 'TWD': 30.976557, 'TZS': 2430.943546, 'UAH': 30.784478, 'UGX': 3906.845877, 'USD': 1.041982, 'UYU': 41.136812, 'UZS': 11289.96123, 'VEF': 222807185424.29745, 'VND': 24330.273442, 'VUV': 121.089565, 'WST': 2.755752, 'XAF': 653.877815, 'XAG': 0.052304, 'XAU': 0.000577, 'XCD': 2.816007, 'XDR': 0.783409, 'XOF': 653.855922, 'XPF': 117.900605, 'YER': 260.755809, 'ZAR': 17.04224, 'ZMK': 9379.089894, 'ZMW': 17.268311, 'ZWL': 335.517693}}\n"
     ]
    }
   ],
   "source": [
    "# Turn the data into a dataframe\n",
    "response = requests.get(url)\n",
    "data = response.json()\n",
    "\n",
    "print(data)"
   ]
  },
  {
   "cell_type": "code",
   "execution_count": 6,
   "metadata": {},
   "outputs": [
    {
     "name": "stdout",
     "output_type": "stream",
     "text": [
      "           rates\n",
      "AED     3.827189\n",
      "AFN    91.400245\n",
      "ALL   118.768354\n",
      "AMD   424.628757\n",
      "ANG     1.877666\n",
      "..           ...\n",
      "YER   260.755809\n",
      "ZAR    17.042240\n",
      "ZMK  9379.089894\n",
      "ZMW    17.268311\n",
      "ZWL   335.517693\n",
      "\n",
      "[168 rows x 1 columns]\n"
     ]
    }
   ],
   "source": [
    "# Drop unnescessary columns\n",
    "\n",
    "df=pd.DataFrame(data, columns=['rates'])\n",
    "\n",
    "print(df)\n"
   ]
  },
  {
   "cell_type": "markdown",
   "metadata": {},
   "source": [
    "### Load the Data\n",
    "\n",
    "Using the dataframe save it as a CSV names `exchange_rates_1.csv`.\n"
   ]
  },
  {
   "cell_type": "code",
   "execution_count": 7,
   "metadata": {},
   "outputs": [],
   "source": [
    "# Save the Dataframe\n",
    "\n",
    "df.to_csv(\"exchange_rates_1.csv\")\n"
   ]
  },
  {
   "cell_type": "markdown",
   "metadata": {},
   "source": [
    "Your CSV should be in this format with more currencies\n",
    "\n",
    "|     | Rates      |\n",
    "| --- | ---------- |\n",
    "| AED | 4.398618   |\n",
    "| AFN | 92.917693  |\n",
    "| ALL | 123.099093 |\n",
    "| AMD | 621.935674 |\n",
    "| ANG | 2.149648   |\n"
   ]
  },
  {
   "cell_type": "markdown",
   "metadata": {},
   "source": [
    "## Authors\n"
   ]
  },
  {
   "cell_type": "markdown",
   "metadata": {},
   "source": [
    "Ramesh Sannareddy, Joseph Santarcangelo and Azim Hirjani\n"
   ]
  },
  {
   "cell_type": "markdown",
   "metadata": {},
   "source": [
    "### Other Contributors\n"
   ]
  },
  {
   "cell_type": "markdown",
   "metadata": {},
   "source": [
    "Rav Ahuja\n"
   ]
  },
  {
   "cell_type": "markdown",
   "metadata": {},
   "source": [
    "## Change Log\n"
   ]
  },
  {
   "cell_type": "markdown",
   "metadata": {},
   "source": [
    "| Date (YYYY-MM-DD) | Version | Changed By        | Change Description                              |\n",
    "| ----------------- | ------- | ----------------- | ----------------------------------------------- |\n",
    "| 2022-05-06        | 0.3     | Malika            | Updated instructions to get the API and the url |\n",
    "| 2021-04-15        | 0.2     | Malika            | Updated the lab from USD to EUR                 |\n",
    "| 2020-11-25        | 0.1     | Ramesh Sannareddy | Created initial version of the lab              |\n"
   ]
  },
  {
   "cell_type": "markdown",
   "metadata": {},
   "source": [
    "Copyright © 2020 IBM Corporation. This notebook and its source code are released under the terms of the [MIT License](https://cognitiveclass.ai/mit-license?utm_medium=Exinfluencer&utm_source=Exinfluencer&utm_content=000026UJ&utm_term=10006555&utm_id=NA-SkillsNetwork-Channel-SkillsNetworkCoursesIBMDeveloperSkillsNetworkPY0221ENSkillsNetwork23455645-2022-01-01&cm_mmc=Email_Newsletter-\\_-Developer_Ed%2BTech-\\_-WW_WW-\\_-SkillsNetwork-Courses-IBM-DA0321EN-SkillsNetwork-21426264&cm_mmca1=000026UJ&cm_mmca2=10006555&cm_mmca3=M12345678&cvosrc=email.Newsletter.M12345678&cvo_campaign=000026UJ).\n"
   ]
  }
 ],
 "metadata": {
  "kernelspec": {
   "display_name": "Python 3 (ipykernel)",
   "language": "python",
   "name": "python3"
  },
  "language_info": {
   "codemirror_mode": {
    "name": "ipython",
    "version": 3
   },
   "file_extension": ".py",
   "mimetype": "text/x-python",
   "name": "python",
   "nbconvert_exporter": "python",
   "pygments_lexer": "ipython3",
   "version": "3.9.7"
  }
 },
 "nbformat": 4,
 "nbformat_minor": 4
}
